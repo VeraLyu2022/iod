{
 "cells": [
  {
   "cell_type": "markdown",
   "id": "2306e155-9262-4143-a49e-c4d74c7301fc",
   "metadata": {},
   "source": [
    "# ARIMA Model Fitting and Training"
   ]
  },
  {
   "cell_type": "markdown",
   "id": "d61eb1da-86f6-49ac-8e87-35cdfb3ddb2f",
   "metadata": {},
   "source": [
    "## Library"
   ]
  },
  {
   "cell_type": "code",
   "execution_count": 7,
   "id": "9263091d-7834-4f74-a65a-0d1839f669ea",
   "metadata": {},
   "outputs": [],
   "source": [
    "import numpy as np\n",
    "import pandas as pd\n",
    "import matplotlib.pyplot as plt\n",
    "from statsmodels.tsa.arima.model import ARIMA\n",
    "from statsmodels.graphics.tsaplots import plot_predict\n",
    "from statsmodels.tsa.stattools import adfuller\n",
    "import itertools\n",
    "from pmdarima import auto_arima\n",
    "import statsmodels.api as sm\n",
    "\n",
    "from col_eda import close_d_org, close_d, close_w, close_m"
   ]
  },
  {
   "cell_type": "markdown",
   "id": "6208b60a-c256-41e0-8719-d3d504303a7a",
   "metadata": {},
   "source": [
    "### Check data stationary"
   ]
  },
  {
   "cell_type": "code",
   "execution_count": 8,
   "id": "6d8d09e4-a0de-4832-b3cb-7a103e012464",
   "metadata": {},
   "outputs": [],
   "source": [
    "# From decomposition, we can see that the data has positive trend and seasonality. it is not stationary. \n",
    "def check_stationary(df):\n",
    "    result = adfuller(df.diff().dropna())\n",
    "    adf_statistic = result[0]\n",
    "    p_value = result[1]\n",
    "    critical_values = result[4]\n",
    "    print(result)\n",
    "    \n",
    "    # Decision based on p-value\n",
    "    if p_value < 0.05:\n",
    "        print(f\"The p-value {p_value} is less than 0.05. We reject the null hypothesis. The time series is likely stationary.\")\n",
    "    else:\n",
    "        print(f\"The p-value {p_value} is greater than 0.05. We fail to reject the null hypothesis. The time series is likely non-stationary.\")\n",
    "\n",
    "    # Additional decision logic based on ADF statistic and critical values\n",
    "    print(\"Based on the ADF Statistic and critical values:\")\n",
    "    if adf_statistic < critical_values['1%']:\n",
    "        print(\"- The series is stationary with 99% confidence.\")\n",
    "    elif adf_statistic < critical_values['5%']:\n",
    "        print(\"- The series is stationary with 95% confidence.\")\n",
    "    elif adf_statistic < critical_values['10%']:\n",
    "        print(\"- The series is stationary with 90% confidence.\")\n",
    "    else:\n",
    "        print(\"- The series is not stationary.\")\n",
    "        "
   ]
  },
  {
   "cell_type": "code",
   "execution_count": 9,
   "id": "3d4173d0-b449-4100-ad0e-0ee9d9ac71a3",
   "metadata": {},
   "outputs": [
    {
     "name": "stdout",
     "output_type": "stream",
     "text": [
      "close_d_org\n",
      "(-10.545115383241619, 8.452430710497291e-19, 11, 1300, {'1%': -3.435390199468821, '5%': -2.8637658312426035, '10%': -2.567955046745562}, -308.9021316688486)\n",
      "The p-value 8.452430710497291e-19 is less than 0.05. We reject the null hypothesis. The time series is likely stationary.\n",
      "Based on the ADF Statistic and critical values:\n",
      "- The series is stationary with 99% confidence.\n",
      "\n",
      "close_d\n",
      "(-9.55196795524411, 2.5575963535382577e-16, 19, 1877, {'1%': -3.433838687021998, '5%': -2.863081058653235, '10%': -2.567590403056488}, -1147.040980613176)\n",
      "The p-value 2.5575963535382577e-16 is less than 0.05. We reject the null hypothesis. The time series is likely stationary.\n",
      "Based on the ADF Statistic and critical values:\n",
      "- The series is stationary with 99% confidence.\n",
      "\n",
      "close_w\n",
      "(-17.32057784511083, 5.4846317951647954e-30, 0, 270, {'1%': -3.4548039258751206, '5%': -2.872304928618605, '10%': -2.5725063100137175}, 319.06585015923247)\n",
      "The p-value 5.4846317951647954e-30 is less than 0.05. We reject the null hypothesis. The time series is likely stationary.\n",
      "Based on the ADF Statistic and critical values:\n",
      "- The series is stationary with 99% confidence.\n",
      "\n",
      "close_m\n",
      "(-10.005485782483705, 1.8362917124577985e-17, 0, 61, {'1%': -3.542412746661615, '5%': -2.910236235808284, '10%': -2.5927445767266866}, 138.952514950138)\n",
      "The p-value 1.8362917124577985e-17 is less than 0.05. We reject the null hypothesis. The time series is likely stationary.\n",
      "Based on the ADF Statistic and critical values:\n",
      "- The series is stationary with 99% confidence.\n"
     ]
    }
   ],
   "source": [
    "print('close_d_org')\n",
    "check_stationary(close_d_org)\n",
    "print('\\nclose_d')\n",
    "check_stationary(close_d)\n",
    "print('\\nclose_w')\n",
    "check_stationary(close_w)\n",
    "print('\\nclose_m')\n",
    "check_stationary(close_m)"
   ]
  },
  {
   "cell_type": "code",
   "execution_count": 42,
   "id": "c1f3191c-dd62-4c7f-8362-12d87094ed0c",
   "metadata": {},
   "outputs": [],
   "source": [
    "# split train test set"
   ]
  },
  {
   "cell_type": "code",
   "execution_count": 10,
   "id": "ce1445a8-68f7-410c-ac02-f436cd0ed568",
   "metadata": {},
   "outputs": [],
   "source": [
    "def train_test(df, date):\n",
    "    test_start_date = date\n",
    "    train = df[:test_start_date]\n",
    "    test = df[test_start_date:]\n",
    "    return train, test"
   ]
  },
  {
   "cell_type": "code",
   "execution_count": 11,
   "id": "f393d38c-66fb-4d2b-b1b6-da24ae91ca62",
   "metadata": {},
   "outputs": [
    {
     "data": {
      "text/plain": [
       "(1714, 1)"
      ]
     },
     "execution_count": 11,
     "metadata": {},
     "output_type": "execute_result"
    }
   ],
   "source": [
    "train, test = train_test(close_d, '2023-07-31')\n",
    "train.shape"
   ]
  },
  {
   "cell_type": "code",
   "execution_count": 12,
   "id": "51adab89-2a8d-45b5-8c3c-28e29e7ab7aa",
   "metadata": {},
   "outputs": [
    {
     "name": "stdout",
     "output_type": "stream",
     "text": [
      "                               SARIMAX Results                                \n",
      "==============================================================================\n",
      "Dep. Variable:                      y   No. Observations:                 1714\n",
      "Model:               SARIMAX(0, 1, 0)   Log Likelihood                 469.512\n",
      "Date:                Tue, 05 Mar 2024   AIC                           -937.023\n",
      "Time:                        20:25:07   BIC                           -931.577\n",
      "Sample:                    11-21-2018   HQIC                          -935.008\n",
      "                         - 07-31-2023                                         \n",
      "Covariance Type:                  opg                                         \n",
      "==============================================================================\n",
      "                 coef    std err          z      P>|z|      [0.025      0.975]\n",
      "------------------------------------------------------------------------------\n",
      "sigma2         0.0338      0.000     76.034      0.000       0.033       0.035\n",
      "===================================================================================\n",
      "Ljung-Box (L1) (Q):                   2.66   Jarque-Bera (JB):              9637.23\n",
      "Prob(Q):                              0.10   Prob(JB):                         0.00\n",
      "Heteroskedasticity (H):               0.49   Skew:                            -0.64\n",
      "Prob(H) (two-sided):                  0.00   Kurtosis:                        14.55\n",
      "===================================================================================\n",
      "\n",
      "Warnings:\n",
      "[1] Covariance matrix calculated using the outer product of gradients (complex-step).\n"
     ]
    }
   ],
   "source": [
    "model = auto_arima(train, seasonal=True, random_state=42)\n",
    "result = model.fit(train)\n",
    "predictions = model.predict(n_periods=len(test))\n",
    "# Summarize the best model\n",
    "print(model.summary())"
   ]
  },
  {
   "cell_type": "code",
   "execution_count": 65,
   "id": "3cab18ea-0443-480d-b21c-2ca5124a4d5b",
   "metadata": {},
   "outputs": [],
   "source": [
    "def predictions_plot(df, test, predictions):\n",
    "    plt.figure(figsize=(10, 6))\n",
    "    plt.plot(test.index, test, label='Actual', color='blue')\n",
    "    plt.plot(test.index, predictions, label='Predicted', color='red')\n",
    "    plt.title('Actual vs. Predicted Values')\n",
    "    plt.xlabel('Date')\n",
    "    plt.ylabel('Value')\n",
    "    plt.legend()\n",
    "    plt.grid(True)\n",
    "    plt.show()"
   ]
  },
  {
   "cell_type": "code",
   "execution_count": 66,
   "id": "2c36c6b4-122a-4d54-be7e-47466608672e",
   "metadata": {},
   "outputs": [
    {
     "data": {
      "image/png": "[encoded data removed]",
      "text/plain": [
       "<Figure size 1000x600 with 1 Axes>"
      ]
     },
     "metadata": {},
     "output_type": "display_data"
    }
   ],
   "source": [
    "predictions_plot(train, test, predictions)"
   ]
  },
  {
   "cell_type": "code",
   "execution_count": 69,
   "id": "e484a768-4603-4ca6-b425-7ebb6419b79d",
   "metadata": {},
   "outputs": [
    {
     "name": "stdout",
     "output_type": "stream",
     "text": [
      "No suitable model found during grid search.\n"
     ]
    }
   ],
   "source": [
    "# Grid search to find the best parameters for SARIMA model\n",
    "p = range(0, 3)  # Example: considering 0, 1, 2\n",
    "d = range(0, 3)  # Example: considering 0, 1, 2\n",
    "q = range(0, 3)  # Example: considering 0, 1, 2\n",
    "\n",
    "P = range(0, 3)\n",
    "D = range(0, 3)\n",
    "Q = range(0, 3)\n",
    "S = [30]\n",
    "\n",
    "param_combinations = list(itertools.product(p, d, q, P, D, Q, S))\n",
    "\n",
    "best_aic = np.inf\n",
    "best_params = None\n",
    "\n",
    "for params in param_combinations:\n",
    "    try:\n",
    "        sm = SARIMAX(train, order=params[:3], seasonal_order=params[3:], enforce_stationarity=False, enforce_invertibility=False)\n",
    "        results = sm.fit(disp=False)\n",
    "        \n",
    "        if results.aic < best_aic:\n",
    "            best_aic = results.aic\n",
    "            best_params = params\n",
    "    except:\n",
    "        continue\n",
    "\n",
    "if best_params is not None:\n",
    "    final_model = sm.tsa.SARIMAX(train, order=(best_params[0], best_params[1], best_params[2]),\n",
    "                                  seasonal_order=(best_params[3], best_params[4], best_params[5], seasonal_period))\n",
    "    final_results = final_model.fit()\n",
    "\n",
    "    # Print the summary of the final model\n",
    "    print(final_results.summary())\n",
    "else:\n",
    "    print(\"No suitable model found during grid search.\")"
   ]
  },
  {
   "cell_type": "code",
   "execution_count": null,
   "id": "34ce65f5-541d-4267-9f80-e39791e9ee10",
   "metadata": {},
   "outputs": [],
   "source": []
  },
  {
   "cell_type": "code",
   "execution_count": null,
   "id": "3876840d-e94a-420d-9ced-7bb66815ead7",
   "metadata": {},
   "outputs": [],
   "source": []
  },
  {
   "cell_type": "code",
   "execution_count": null,
   "id": "8786ff0a-48b3-49cd-aac9-cc36324d7cf0",
   "metadata": {},
   "outputs": [],
   "source": []
  },
  {
   "cell_type": "code",
   "execution_count": null,
   "id": "a49495a3-ef40-4bbc-b1fe-4c559d4ea705",
   "metadata": {},
   "outputs": [],
   "source": []
  },
  {
   "cell_type": "code",
   "execution_count": null,
   "id": "1a0896d3-a5b3-4288-919d-7dc0fc99926a",
   "metadata": {},
   "outputs": [],
   "source": []
  },
  {
   "cell_type": "code",
   "execution_count": null,
   "id": "b77bc77b-e4bb-450e-b7b6-a99050033d97",
   "metadata": {},
   "outputs": [],
   "source": []
  },
  {
   "cell_type": "code",
   "execution_count": null,
   "id": "2659ca96-1a20-4965-abb0-8415ce1e0be5",
   "metadata": {},
   "outputs": [],
   "source": []
  },
  {
   "cell_type": "code",
   "execution_count": null,
   "id": "e7c94426-0534-42b6-86c3-f77e12cbb433",
   "metadata": {},
   "outputs": [],
   "source": []
  },
  {
   "cell_type": "code",
   "execution_count": null,
   "id": "f7c1ffef-329a-43ef-86ce-7d1faacb0306",
   "metadata": {},
   "outputs": [],
   "source": []
  },
  {
   "cell_type": "code",
   "execution_count": null,
   "id": "abc80f44-70d6-4bc1-9388-192393c2cb13",
   "metadata": {},
   "outputs": [],
   "source": []
  },
  {
   "cell_type": "code",
   "execution_count": 22,
   "id": "ffcbf63a-7346-49c0-88e1-c336a68307e1",
   "metadata": {},
   "outputs": [],
   "source": [
    "from statsmodels.tsa.holtwinters import ExponentialSmoothing\n",
    "\n",
    "# Example for a seasonal time series\n",
    "model = ExponentialSmoothing(train, trend='add', seasonal='add', seasonal_periods=7)\n",
    "fit_model = model.fit()\n",
    "predictions = fit_model.forecast(len(test))"
   ]
  },
  {
   "cell_type": "code",
   "execution_count": 87,
   "id": "d9332e8c-8cb0-4d3a-98c9-c3e8e6e7d14f",
   "metadata": {},
   "outputs": [
    {
     "name": "stdout",
     "output_type": "stream",
     "text": [
      "Mean Absolute Error (MAE): 2.5779764042791466\n",
      "Mean Squared Error (MSE): 7.424639210690931\n",
      "Root Mean Squared Error (RMSE): 2.724819115224152\n",
      "Mean Absolute Percentage Error (MAPE): nan%\n"
     ]
    }
   ],
   "source": [
    "from sklearn.metrics import mean_squared_error, mean_absolute_error\n",
    "mae = mean_absolute_error(test, predictions)\n",
    "mse = mean_squared_error(test, predictions)\n",
    "rmse = np.sqrt(mse)\n",
    "mape = np.mean(np.abs((test - predictions) / test)) * 100\n",
    "\n",
    "print(f'Mean Absolute Error (MAE): {mae}')\n",
    "print(f'Mean Squared Error (MSE): {mse}')\n",
    "print(f'Root Mean Squared Error (RMSE): {rmse}')\n",
    "print(f'Mean Absolute Percentage Error (MAPE): {mape}%')"
   ]
  },
  {
   "cell_type": "code",
   "execution_count": 59,
   "id": "338e69f4-7c39-4e9d-8ccb-fbc8c69c26a9",
   "metadata": {
    "tags": []
   },
   "outputs": [
    {
     "name": "stdout",
     "output_type": "stream",
     "text": [
      "                     Constant Mean - GARCH Model Results                      \n",
      "==============================================================================\n",
      "Dep. Variable:                  Close   R-squared:                       0.000\n",
      "Mean Model:             Constant Mean   Adj. R-squared:                  0.000\n",
      "Vol Model:                      GARCH   Log-Likelihood:                6002.03\n",
      "Distribution:                  Normal   AIC:                          -11996.1\n",
      "Method:            Maximum Likelihood   BIC:                          -11973.9\n",
      "                                        No. Observations:                 1897\n",
      "Date:                Tue, Mar 05 2024   Df Residuals:                     1896\n",
      "Time:                        11:00:39   Df Model:                            1\n",
      "                                  Mean Model                                 \n",
      "=============================================================================\n",
      "                 coef    std err          t      P>|t|       95.0% Conf. Int.\n",
      "-----------------------------------------------------------------------------\n",
      "mu         3.2188e-04  2.209e-04      1.457      0.145 [-1.110e-04,7.548e-04]\n",
      "                              Volatility Model                              \n",
      "============================================================================\n",
      "                 coef    std err          t      P>|t|      95.0% Conf. Int.\n",
      "----------------------------------------------------------------------------\n",
      "omega      1.2585e-05  7.325e-12  1.718e+06      0.000 [1.259e-05,1.259e-05]\n",
      "alpha[1]       0.1000  2.505e-02      3.992  6.555e-05   [5.090e-02,  0.149]\n",
      "beta[1]        0.8000  1.950e-02     41.032      0.000     [  0.762,  0.838]\n",
      "============================================================================\n",
      "\n",
      "Covariance estimator: robust\n",
      "                 h.1       h.2       h.3     h.4       h.5\n",
      "Date                                                      \n",
      "2024-01-31  0.000091  0.000095  0.000098  0.0001  0.000103\n"
     ]
    }
   ],
   "source": [
    "from arch import arch_model\n",
    "import pandas as pd\n",
    "\n",
    "# Assuming 'returns' is a Pandas Series of financial returns\n",
    "model = arch_model(close_d.pct_change().dropna(), p=1, q=1) # Specify GARCH(1, 1) model\n",
    "res = model.fit(disp='off') # Fit the model\n",
    "print(res.summary()) # Print the model summary\n",
    "\n",
    "# Forecasting\n",
    "forecasts = res.forecast(horizon=5) # Forecast the next 5 periods\n",
    "print(forecasts.variance[-1:]) # Print the forecasted variances"
   ]
  },
  {
   "cell_type": "code",
   "execution_count": 60,
   "id": "4555e086-e8fd-4d6f-a667-aa55bc297d4e",
   "metadata": {},
   "outputs": [
    {
     "ename": "TypeError",
     "evalue": "'ARCHModelForecast' object is not iterable",
     "output_type": "error",
     "traceback": [
      "\u001b[0;31m---------------------------------------------------------------------------\u001b[0m",
      "\u001b[0;31mTypeError\u001b[0m                                 Traceback (most recent call last)",
      "Cell \u001b[0;32mIn[60], line 6\u001b[0m\n\u001b[1;32m      3\u001b[0m \u001b[38;5;66;03m# Convert forecasted returns to prices\u001b[39;00m\n\u001b[1;32m      4\u001b[0m predictions \u001b[38;5;241m=\u001b[39m [latest_price]\n\u001b[0;32m----> 6\u001b[0m \u001b[38;5;28;01mfor\u001b[39;00m ret \u001b[38;5;129;01min\u001b[39;00m forecasts:\n\u001b[1;32m      7\u001b[0m     predictions\u001b[38;5;241m.\u001b[39mappend(predictions[\u001b[38;5;241m-\u001b[39m\u001b[38;5;241m1\u001b[39m] \u001b[38;5;241m*\u001b[39m (\u001b[38;5;241m1\u001b[39m \u001b[38;5;241m+\u001b[39m ret))\n\u001b[1;32m      9\u001b[0m predictions \u001b[38;5;241m=\u001b[39m predictions[\u001b[38;5;241m1\u001b[39m:]  \u001b[38;5;66;03m# Remove the initial price used for calculation\u001b[39;00m\n",
      "\u001b[0;31mTypeError\u001b[0m: 'ARCHModelForecast' object is not iterable"
     ]
    }
   ],
   "source": [
    "latest_price = train.iloc[-1]\n",
    "\n",
    "# Convert forecasted returns to prices\n",
    "predictions = [latest_price]\n",
    "\n",
    "for ret in forecasts:\n",
    "    predictions.append(predictions[-1] * (1 + ret))\n",
    "\n",
    "predictions = predictions[1:]  # Remove the initial price used for calculation\n",
    "\n",
    "print(\"Forecasted Prices:\", predictions)"
   ]
  },
  {
   "cell_type": "code",
   "execution_count": null,
   "id": "248fe816-be16-40c7-90ce-db7177e0dc2c",
   "metadata": {},
   "outputs": [],
   "source": []
  }
 ],
 "metadata": {
  "kernelspec": {
   "display_name": "Python 3 (ipykernel)",
   "language": "python",
   "name": "python3"
  },
  "language_info": {
   "codemirror_mode": {
    "name": "ipython",
    "version": 3
   },
   "file_extension": ".py",
   "mimetype": "text/x-python",
   "name": "python",
   "nbconvert_exporter": "python",
   "pygments_lexer": "ipython3",
   "version": "3.11.7"
  }
 },
 "nbformat": 4,
 "nbformat_minor": 5
}
