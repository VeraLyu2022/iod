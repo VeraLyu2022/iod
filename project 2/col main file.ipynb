{
 "cells": [
  {
   "cell_type": "markdown",
   "id": "695940d8-60d5-4431-8631-d82035467b30",
   "metadata": {},
   "source": [
    "# Time Series Prediction with Coles Stocks Prices Datasets"
   ]
  },
  {
   "cell_type": "markdown",
   "id": "d5bc0c16-145c-4a83-a08a-67aa5e6cb2b4",
   "metadata": {},
   "source": [
    "## 1. \n",
    "Business Context:\n",
    "No more than 4 dot points on presentation\n",
    "Highlight the problem – Tell us what you are going to talk about\n",
    "To get the context of any problem, you need to do some research on the web\n",
    "Give us statistic facts\n",
    "Tell us why this problem needs to be looked at"
   ]
  },
  {
   "cell_type": "markdown",
   "id": "1dd07c10-ba7f-45b9-95cb-b112b42737ec",
   "metadata": {
    "jp-MarkdownHeadingCollapsed": true
   },
   "source": [
    "## \n",
    "Business Question:\n",
    "If it is a linear regression problem, ask \"Can we predict the temperature for tomorrow?\", or \"Can we estimate someone's salary based on their experience?\", \"Can we forecast the price of a stock next week?\"\n",
    "If its a classification problem, ask \" Can we determine if an email is spam or not spam?\", \"Can we predict if the cancer is malignant or not?\", \"Can we predict if rap is popular or not?\""
   ]
  },
  {
   "cell_type": "markdown",
   "id": "aaf31dd1-5bc6-47c2-a908-41ad7a48f86d",
   "metadata": {},
   "source": [
    "## Data Pipline Box Jenkins Methodology\n",
    "identification\n",
    "modeling\n",
    "estimation\n",
    "\n",
    "\n",
    "\n",
    "Data Pipeline:\n",
    "This is where you show series of steps of how you are going to answer your business question. Make sure you have a nice diagram with arrows or you can list your steps."
   ]
  },
  {
   "cell_type": "markdown",
   "id": "2d958448-4ccb-4a0e-9878-7899f43411b4",
   "metadata": {},
   "source": [
    "##\n",
    "EDAs:\n",
    "Show us your findings and trends in your dataset. Make sure it relates to your storyline! You can show heat map if you want!"
   ]
  },
  {
   "cell_type": "markdown",
   "id": "54290800-5042-454d-a9c7-8b3e292b5836",
   "metadata": {},
   "source": [
    "## Modelling:\n",
    "Show data preprocessing such as one-hot encoding, label encoding, splitting the dataset\n",
    "Show algorithms aka models for comparision: SVM, Logistic Regression, KNN, Random Forest\n",
    "(make sure the model is compatiable with your type of problem)\n",
    "Show feature selection in this section to tell us what features you will put in ur model"
   ]
  },
  {
   "cell_type": "markdown",
   "id": "e332e641-03fa-4ce7-8309-8aec3acdfe0e",
   "metadata": {},
   "source": [
    "## Model Interpretation:\n",
    "We want to see the performance metrics\n",
    "Linear Regression - show R2, MAE and RMSE\n",
    "Classification- show F1 score, Recall, Accuracy\n",
    "Show which model did the best in answering your business question, and show ROC curve to see how well the model performed"
   ]
  },
  {
   "cell_type": "markdown",
   "id": "b9b62451-b32f-488c-9fb1-94a57f12d266",
   "metadata": {},
   "source": [
    "## Summary/Next Steps:\n",
    "Summarise your findings: did it answer the business question and how?\n",
    "Next Steps: Should we get more data? Any additional data source? Ready for deployment? Does it need any improvement, what sort of improvement?"
   ]
  },
  {
   "cell_type": "code",
   "execution_count": null,
   "id": "a59cc9ef-b749-434f-9545-b9c89c297b63",
   "metadata": {},
   "outputs": [],
   "source": []
  },
  {
   "cell_type": "code",
   "execution_count": null,
   "id": "51de42ba-3048-46a5-8ce7-ec8f60ea6c9b",
   "metadata": {},
   "outputs": [],
   "source": []
  },
  {
   "cell_type": "code",
   "execution_count": null,
   "id": "6fed65e9-b2a8-4c7a-9afc-23ed69a5653c",
   "metadata": {},
   "outputs": [],
   "source": []
  },
  {
   "cell_type": "code",
   "execution_count": null,
   "id": "8d211dbe-bef2-46af-ba88-07f3e25991cd",
   "metadata": {},
   "outputs": [],
   "source": []
  },
  {
   "cell_type": "code",
   "execution_count": null,
   "id": "d2223305-344d-4eec-8837-d4e89fda09a9",
   "metadata": {},
   "outputs": [],
   "source": []
  },
  {
   "cell_type": "code",
   "execution_count": null,
   "id": "35a35326-cff5-49c1-9baf-e7d6d526b090",
   "metadata": {},
   "outputs": [],
   "source": []
  }
 ],
 "metadata": {
  "kernelspec": {
   "display_name": "Python 3 (ipykernel)",
   "language": "python",
   "name": "python3"
  },
  "language_info": {
   "codemirror_mode": {
    "name": "ipython",
    "version": 3
   },
   "file_extension": ".py",
   "mimetype": "text/x-python",
   "name": "python",
   "nbconvert_exporter": "python",
   "pygments_lexer": "ipython3",
   "version": "3.11.7"
  }
 },
 "nbformat": 4,
 "nbformat_minor": 5
}
