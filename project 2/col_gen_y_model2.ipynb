{
 "cells": [
  {
   "cell_type": "markdown",
   "id": "3b20064d-61c8-41c0-9213-b675091be732",
   "metadata": {},
   "source": [
    "# Other models"
   ]
  },
  {
   "cell_type": "code",
   "execution_count": 1,
   "id": "dd0a7fd2-7603-4238-942a-93b05da66053",
   "metadata": {},
   "outputs": [],
   "source": [
    "import numpy as np\n",
    "import pandas as pd\n",
    "import matplotlib.pyplot as plt\n",
    "from sklearn.tree import DecisionTreeRegressor\n",
    "from sklearn.metrics import mean_squared_error as MSE, r2_score\n",
    "from col_eda import close_d_org, close_d, close_w, close_m, eda_df, model_training, cross_val, test_result\n",
    "from col_eda import generate_X_y, spliting_data, fit_predict, evaluate, plot_actual_vs_predicted\n",
    "\n",
    "from sklearn.pipeline import Pipeline\n",
    "from sklearn.preprocessing import StandardScaler\n",
    "from sklearn.model_selection import TimeSeriesSplit, GridSearchCV\n",
    "from sklearn.linear_model import LinearRegression\n",
    "from sklearn.linear_model import Ridge\n",
    "from sklearn.svm import SVR\n",
    "from sklearn.ensemble import RandomForestRegressor\n",
    "import xgboost as xgb\n",
    "\n",
    "from scipy.stats import randint as sp_randint\n",
    "from scipy.stats import uniform\n",
    "from scipy.stats import randint, uniform\n",
    "\n",
    "import warnings\n",
    "%matplotlib inline\n",
    "warnings.filterwarnings(\"ignore\")\n",
    "plt.style.use('dark_background')\n",
    "plt.rcParams['figure.figsize'] = [12, 8]"
   ]
  },
  {
   "cell_type": "markdown",
   "id": "aa675659-5e6c-417c-802e-ce684bdfa146",
   "metadata": {},
   "source": [
    "## LinearRegression"
   ]
  },
  {
   "cell_type": "code",
   "execution_count": 31,
   "id": "d1b0bbc1-9eff-48dd-bad6-85f7e5c16150",
   "metadata": {},
   "outputs": [
    {
     "name": "stdout",
     "output_type": "stream",
     "text": [
      "Training - RMSE: 0.22460385269318986, R2: 0.986570818753383\n",
      "Validation - RMSE: 0.18961565966560923, R2: 0.9460438467597156\n",
      "Change last parameter to none-zero to plot: Actual vs predicted\n"
     ]
    }
   ],
   "source": [
    "model, X_train_scaled, y_train, X_test_scaled, y_test, X_val_scaled, y_val, error_train, score_train, error_val, score_val = model_training(close_d_org['Close'], 40, 1, 0.7, 0.85, LinearRegression(), 0, 0)"
   ]
  },
  {
   "cell_type": "code",
   "execution_count": 32,
   "id": "89b86e9f-1b7a-483a-b587-30a3908afb25",
   "metadata": {},
   "outputs": [
    {
     "name": "stdout",
     "output_type": "stream",
     "text": [
      "Fitting 5 folds for each of 100 candidates, totalling 500 fits\n",
      "Best parameters: {'alpha': 1.9179102616724888}\n",
      "Best rmse: 0.25952772106170036\n"
     ]
    }
   ],
   "source": [
    "param_grid = {\n",
    "    'alpha': np.logspace(-4, 4, 100)  \n",
    "}\n",
    "\n",
    "best_model = cross_val(Ridge(), param_grid, X_train_scaled, y_train)"
   ]
  },
  {
   "cell_type": "code",
   "execution_count": 33,
   "id": "6b3d2d37-0f9c-4cef-b4cb-5216914c2af7",
   "metadata": {},
   "outputs": [
    {
     "name": "stdout",
     "output_type": "stream",
     "text": [
      "Training - RMSE: 0.2247938811572509, R2: 0.9865480853389954\n",
      "Validation - RMSE: 0.1895644816428108, R2: 0.9460729687910208\n",
      "Change last parameter to none-zero to plot: Actual vs predicted\n"
     ]
    }
   ],
   "source": [
    "model_lr, X_train_scaled, y_train, X_test_scaled, y_test, X_val_scaled, y_val, rmse_lr_train, r2_lr_train, rmse_lr_val, r2_lr_val = model_training(close_d_org['Close'], 40, 1, 0.7, 0.85, best_model, 0, 0)"
   ]
  },
  {
   "cell_type": "code",
   "execution_count": 34,
   "id": "0fb0d9cc-81a7-47b4-a8f2-34030d3c2071",
   "metadata": {},
   "outputs": [
    {
     "name": "stdout",
     "output_type": "stream",
     "text": [
      "RMSE: 0.15770887317491783\n",
      "R2 0.9836997231387395\n"
     ]
    }
   ],
   "source": [
    "rmse_lr_test, r2_lr_test = test_result(model_lr, X_test_scaled, y_test)"
   ]
  },
  {
   "cell_type": "markdown",
   "id": "796897b9-4a8e-4c0f-938f-bac6a404f763",
   "metadata": {},
   "source": [
    "## Decision Tree"
   ]
  },
  {
   "cell_type": "code",
   "execution_count": 11,
   "id": "b432e252-6cd2-43f6-8c34-cadad4c304ae",
   "metadata": {},
   "outputs": [
    {
     "name": "stdout",
     "output_type": "stream",
     "text": [
      "Training - RMSE: 0.0, R2: 1.0\n",
      "Validation - RMSE: 0.32388916079683083, R2: 0.8425707576421255\n",
      "Change last parameter to none-zero to plot: Actual vs predicted\n"
     ]
    }
   ],
   "source": [
    "model, X_train_scaled, y_train, X_test_scaled, y_test, X_val_scaled, y_val, error_train, score_train, error_val, score_val = model_training(close_d_org['Close'], 40, 1, 0.7, 0.85, DecisionTreeRegressor(), 0, 0)"
   ]
  },
  {
   "cell_type": "code",
   "execution_count": 12,
   "id": "41cca7ea-9c71-4ab4-b03f-a06fdf13a8af",
   "metadata": {},
   "outputs": [
    {
     "name": "stdout",
     "output_type": "stream",
     "text": [
      "Fitting 5 folds for each of 100 candidates, totalling 500 fits\n",
      "Best parameters: {'min_samples_split': 2, 'min_samples_leaf': 7, 'max_depth': 4}\n",
      "Best rmse: 0.8071161616680882\n"
     ]
    }
   ],
   "source": [
    "param_grid = param_grid = {\n",
    "    'max_depth': [3, 4, 5, 6, 7],  # Example: Limit the depth of the tree\n",
    "    'min_samples_split': [1, 2, 3, 4, 5],  # Minimum number of samples required to split an internal node\n",
    "    'min_samples_leaf': [3, 4, 5, 6, 7, 8, 9]  # The minimum number of samples required to be at a leaf node\n",
    "}\n",
    "\n",
    "\n",
    "best_model = cross_val(DecisionTreeRegressor(), param_grid, X_train_scaled, y_train)"
   ]
  },
  {
   "cell_type": "code",
   "execution_count": 13,
   "id": "209e55eb-18e2-457b-9e6f-4d1f0d645699",
   "metadata": {},
   "outputs": [
    {
     "name": "stdout",
     "output_type": "stream",
     "text": [
      "Training - RMSE: 0.2447062832549674, R2: 0.9840593739547966\n",
      "Validation - RMSE: 0.23872852805668368, R2: 0.9144733980486413\n",
      "Change last parameter to none-zero to plot: Actual vs predicted\n"
     ]
    }
   ],
   "source": [
    "model_dt, X_train_scaled, y_train, X_test_scaled, y_test, X_val_scaled, y_val, rmse_dt_train, r2_dt_train, rmse_dt_val, r2_dt_val = model_training(close_d_org['Close'], 40, 1, 0.7, 0.85, best_model, 0, 0)"
   ]
  },
  {
   "cell_type": "code",
   "execution_count": 14,
   "id": "096a9f40-6351-424b-892f-b027abc3915d",
   "metadata": {},
   "outputs": [
    {
     "name": "stdout",
     "output_type": "stream",
     "text": [
      "RMSE: 0.2366403704593699\n",
      "R2 0.9633004789403835\n"
     ]
    }
   ],
   "source": [
    "rmse_dt_test, r2_dt_test = test_result(model_dt, X_test_scaled, y_test)"
   ]
  },
  {
   "cell_type": "markdown",
   "id": "beb89576-e53b-440a-a5d7-5a4358e190d7",
   "metadata": {},
   "source": [
    "## SVM "
   ]
  },
  {
   "cell_type": "code",
   "execution_count": 11,
   "id": "bd28b383-3088-48b9-ae5c-2045b0992ce0",
   "metadata": {},
   "outputs": [],
   "source": [
    "#model, X_train, y_train = model_training(close_d_org['Close'], 40, 1, 0.7, 0.85, SVR(), StandardScaler(), 0)"
   ]
  },
  {
   "cell_type": "markdown",
   "id": "bab376c9-6e99-41b1-90f2-a4a728a79b9d",
   "metadata": {},
   "source": [
    "from sklearn.model_selection import RandomizedSearchCV\n",
    "param_grid = {\n",
    "    'C': [0.1, 1, 10],\n",
    "    'gamma': [0.001, 0.01, 0.1, 1],\n",
    "    'kernel': ['rbf', 'poly', 'linear']\n",
    "}\n",
    "tscv = TimeSeriesSplit(n_splits=5)\n",
    "\n",
    "best_model = cross_val(SVR(), param_grid, tscv, X_train, y_train)\n",
    "\n",
    "#random_search = RandomizedSearchCV(estimator=SVR(), param_distributions=param_grid, n_iter=10, cv=tscv, scoring='neg_mean_squared_error')\n",
    "#random_search.fit(X_train_scaled, y_train)\n",
    "#print(\"Best parameters:\", random_search.best_params_)\n",
    "#print(\"Best rmse:\", np.sqrt(-random_search.best_score_))  # Assuming we're interested in RMSE"
   ]
  },
  {
   "cell_type": "code",
   "execution_count": 12,
   "id": "72b39e50-527f-4ff8-8f7a-dba11de00089",
   "metadata": {},
   "outputs": [],
   "source": [
    "#model_svm, predict_train, predict_val = fit_predict(SVR(kernel='linear', gamma=0.001, C=1), X_train_scaled, X_val_scaled, y_train)\n",
    "#error_train, score_train = evaluate(y_train, predict_train)\n",
    "#error_val, score_val = evaluate(y_val, predict_val)\n",
    "#print(f\"Training - RMSE: {error_train}, R2: {score_train}\")\n",
    "#print(f\"Validation - RMSE: {error_val}, R2: {score_val}\")\n"
   ]
  },
  {
   "cell_type": "code",
   "execution_count": 13,
   "id": "d5493059-ddad-4ef4-85e3-fcd4d001de18",
   "metadata": {},
   "outputs": [],
   "source": [
    "#(y_train, predict_train, title='Training: Actual vs. Predicted')\n",
    "#plot_actual_vs_predicted(y_val, predict_val, title='Validation: Actual vs. Predicted')"
   ]
  },
  {
   "cell_type": "markdown",
   "id": "220c74a4-f20a-4150-9d11-a7dbf6fc59e1",
   "metadata": {},
   "source": [
    "## Random Forest"
   ]
  },
  {
   "cell_type": "code",
   "execution_count": 16,
   "id": "5e20877b-ad24-4bb3-93ef-dd8d47752395",
   "metadata": {},
   "outputs": [
    {
     "name": "stdout",
     "output_type": "stream",
     "text": [
      "Training - RMSE: 0.08774016289056578, R2: 0.997950669494351\n",
      "Validation - RMSE: 0.21801316726169725, R2: 0.9286723319721061\n",
      "Change last parameter to none-zero to plot: Actual vs predicted\n"
     ]
    }
   ],
   "source": [
    "model, X_train_scaled, y_train, X_test_scaled, y_test, X_val_scaled, y_val, error_train, score_train, error_val, score_val = model_training(close_d_org['Close'], 40, 1, 0.7, 0.85, RandomForestRegressor(), 0, 0)"
   ]
  },
  {
   "cell_type": "code",
   "execution_count": 17,
   "id": "c398a1d0-1159-4882-8b63-a7a22afd8c59",
   "metadata": {},
   "outputs": [
    {
     "name": "stdout",
     "output_type": "stream",
     "text": [
      "Fitting 5 folds for each of 100 candidates, totalling 500 fits\n",
      "Best parameters: {'bootstrap': False, 'max_depth': 4, 'min_samples_leaf': 2, 'min_samples_split': 6, 'n_estimators': 54}\n",
      "Best rmse: 0.8031824510477377\n"
     ]
    }
   ],
   "source": [
    "param_grid = {\n",
    "    'n_estimators': sp_randint(1, 500),  # Fewer trees for quicker iterations\n",
    "    'max_depth': sp_randint(1, 100),  # Simplified range\n",
    "    'min_samples_split': sp_randint(1, 20),\n",
    "    'min_samples_leaf': sp_randint(1, 11),\n",
    "    'bootstrap': [True, False]\n",
    "}\n",
    "best_model = cross_val(RandomForestRegressor(), param_grid, X_train_scaled, y_train)"
   ]
  },
  {
   "cell_type": "code",
   "execution_count": 18,
   "id": "c2459a6b-a8c4-4671-8df8-20f49c6b4f7b",
   "metadata": {},
   "outputs": [
    {
     "name": "stdout",
     "output_type": "stream",
     "text": [
      "Training - RMSE: 0.2445892187400088, R2: 0.984074621910639\n",
      "Validation - RMSE: 0.23872852805668465, R2: 0.9144733980486406\n",
      "Change last parameter to none-zero to plot: Actual vs predicted\n"
     ]
    }
   ],
   "source": [
    "model_rf, X_train_scaled, y_train, X_test_scaled, y_test, X_val_scaled, y_val, rmse_rf_train, r2_rf_train, rmse_rf_val, r2_rf_val= model_training(close_d_org['Close'], 40, 1, 0.7, 0.85, best_model, 0, 0)"
   ]
  },
  {
   "cell_type": "code",
   "execution_count": 19,
   "id": "51e9e0aa-6d6a-4f44-940b-5597dfb696ea",
   "metadata": {},
   "outputs": [
    {
     "name": "stdout",
     "output_type": "stream",
     "text": [
      "RMSE: 0.2366403704593699\n",
      "R2 0.9633004789403835\n"
     ]
    }
   ],
   "source": [
    "rmse_rf_test, r2_rf_test = test_result(model_dt, X_test_scaled, y_test)"
   ]
  },
  {
   "cell_type": "markdown",
   "id": "347d6792-859e-41d7-931b-22d3cb70d5ed",
   "metadata": {},
   "source": [
    "## XGBoosting"
   ]
  },
  {
   "cell_type": "code",
   "execution_count": 20,
   "id": "9093cb0e-084b-4017-807e-033dae21d0df",
   "metadata": {},
   "outputs": [
    {
     "name": "stdout",
     "output_type": "stream",
     "text": [
      "Training - RMSE: 0.0060167967820500805, R2: 0.9999903629121274\n",
      "Validation - RMSE: 0.2761091777460766, R2: 0.8855925615074223\n",
      "Change last parameter to none-zero to plot: Actual vs predicted\n"
     ]
    }
   ],
   "source": [
    "model, X_train_scaled, y_train, X_test_scaled, y_test, X_val_scaled, y_val, error_train, score_train, error_val, score_val = model_training(close_d_org['Close'], 40, 1, 0.7, 0.85, xgb.XGBRegressor(), 0, 0)"
   ]
  },
  {
   "cell_type": "code",
   "execution_count": 21,
   "id": "b9459a12-289f-4938-bd43-b989feb60dc0",
   "metadata": {},
   "outputs": [
    {
     "name": "stdout",
     "output_type": "stream",
     "text": [
      "Fitting 5 folds for each of 100 candidates, totalling 500 fits\n",
      "Best parameters: {'alpha': 0.05061583846218687, 'colsample_bytree': 0.6643232205669994, 'gamma': 0.27436689468329306, 'learning_rate': 0.21756855930780797, 'max_depth': 7, 'min_child_weight': 9, 'n_estimators': 260, 'reg_lambda': 1.1807536361552087, 'subsample': 0.7975574860733738}\n",
      "Best rmse: 0.909070004248401\n"
     ]
    }
   ],
   "source": [
    "param_grid = {\n",
    "    'n_estimators': randint(100, 1000),  # Number of trees in the forest\n",
    "    'learning_rate': uniform(0.01, 0.3),  # So-called `eta` value\n",
    "    'max_depth': randint(3, 10),  # Maximum depth of a tree\n",
    "    'min_child_weight': randint(1, 10),  # Minimum sum of instance weight(hessian) needed in a child\n",
    "    'gamma': uniform(0, 0.5),  # Minimum loss reduction required to make a further partition\n",
    "    'subsample': uniform(0.6, 0.4),  # Subsample ratio of the training instances\n",
    "    'colsample_bytree': uniform(0.6, 0.4),  # Subsample ratio of columns when constructing each tree\n",
    "    'alpha': uniform(0, 10),  # L1 regularization term on weights\n",
    "    'reg_lambda': uniform(1, 10),  # L2 regularization term on weights\n",
    "    # Add more parameters here if you like\n",
    "}\n",
    "\n",
    "best_model = cross_val(xgb.XGBRegressor(), param_grid, X_train_scaled, y_train)"
   ]
  },
  {
   "cell_type": "code",
   "execution_count": 23,
   "id": "2d5b250c-24b1-4c47-b38d-ef1eff8dbbff",
   "metadata": {},
   "outputs": [
    {
     "name": "stdout",
     "output_type": "stream",
     "text": [
      "Training - RMSE: 0.17438276874332162, R2: 0.9919048990336573\n",
      "Validation - RMSE: 0.23005254756427035, R2: 0.9205769298947097\n",
      "Change last parameter to none-zero to plot: Actual vs predicted\n"
     ]
    }
   ],
   "source": [
    "model_xgb, X_train_scaled, y_train, X_test_scaled, y_test, X_val_scaled, y_val, rmse_xgb_train, r2_xgb_train, rmse_xgb_val, r2_xgb_val = model_training(close_d_org['Close'], 40, 1, 0.7, 0.85, best_model, 0, 0)"
   ]
  },
  {
   "cell_type": "code",
   "execution_count": 25,
   "id": "c0fff28d-399a-4699-8629-249e805e6068",
   "metadata": {},
   "outputs": [
    {
     "name": "stdout",
     "output_type": "stream",
     "text": [
      "RMSE: 0.1956790562209228\n",
      "R2 0.9749059121738527\n"
     ]
    }
   ],
   "source": [
    "rmse_xgb_test, r2_xgb_test = test_result(model_xgb, X_test_scaled, y_test)"
   ]
  },
  {
   "cell_type": "markdown",
   "id": "2adf6d05-c809-424b-a57f-6540e72cad51",
   "metadata": {},
   "source": [
    "## Test fitting and plot"
   ]
  },
  {
   "cell_type": "code",
   "execution_count": 57,
   "id": "cbd4337c-9239-44dc-83f0-0a7aad2ba1e4",
   "metadata": {},
   "outputs": [],
   "source": [
    "model_metrics = {\n",
    "    'Model lr': {'Train RMSE': rmse_lr_train, 'Val RMSE': rmse_lr_val, 'Test RMSE': rmse_lr_test,\n",
    "                'Train R2': r2_lr_train, 'Val R2': r2_lr_val, 'Test R2': r2_lr_test},\n",
    "    'Model dt': {'Train RMSE': rmse_dt_train, 'Val RMSE': rmse_dt_val, 'Test RMSE': rmse_dt_test,\n",
    "                'Train R2': r2_dt_train, 'Val R2': r2_dt_val, 'Test R2': r2_dt_test},\n",
    "    'Model rf': {'Train RMSE': rmse_rf_train, 'Val RMSE': rmse_rf_val, 'Test RMSE': rmse_rf_test,\n",
    "                'Train R2': r2_rf_train, 'Val R2': r2_rf_val, 'Test R2': r2_rf_test},\n",
    "    'Model xgb': {'Train RMSE': rmse_xgb_train, 'Val RMSE': rmse_xgb_val, 'Test RMSE': rmse_xgb_test,\n",
    "                'Train R2': r2_xgb_train, 'Val R2': r2_xgb_val, 'Test R2': r2_xgb_test},\n",
    "}"
   ]
  },
  {
   "cell_type": "code",
   "execution_count": 58,
   "id": "60c9570e-10d2-4a6c-a318-e264d9ce0e15",
   "metadata": {},
   "outputs": [
    {
     "data": {
      "image/png": "[encoded data removed]",
      "text/plain": [
       "<Figure size 1400x600 with 2 Axes>"
      ]
     },
     "metadata": {},
     "output_type": "display_data"
    }
   ],
   "source": [
    "# Plotting function for RMSE and R2 scores\n",
    "def plot_metrics(metrics):\n",
    "    # Set up the matplotlib figure\n",
    "    fig, axes = plt.subplots(1, 2, figsize=(14, 6), sharex=True)\n",
    "\n",
    "    # Plot RMSE\n",
    "    axes[0].bar(np.arange(len(metrics)) - 0.2, [m['Train RMSE'] for m in metrics.values()], 0.2, label='Train RMSE')\n",
    "    axes[0].bar(np.arange(len(metrics)), [m['Val RMSE'] for m in metrics.values()], 0.2, label='Val RMSE')\n",
    "    axes[0].bar(np.arange(len(metrics)) + 0.2, [m['Test RMSE'] for m in metrics.values()], 0.2, label='Test RMSE')\n",
    "\n",
    "    # Plot R2\n",
    "    axes[1].bar(np.arange(len(metrics)) - 0.2, [m['Train R2'] for m in metrics.values()], 0.2, label='Train R2')\n",
    "    axes[1].bar(np.arange(len(metrics)), [m['Val R2'] for m in metrics.values()], 0.2, label='Val R2')\n",
    "    axes[1].bar(np.arange(len(metrics)) + 0.2, [m['Test R2'] for m in metrics.values()], 0.2, label='Test R2')\n",
    "\n",
    "    # Add some text for labels and title, and custom x-axis tick labels\n",
    "    axes[0].set_ylabel('RMSE')\n",
    "    axes[0].set_title('RMSE by Model and Dataset')\n",
    "    axes[0].set_xticks(np.arange(len(metrics)))\n",
    "    axes[0].set_xticklabels(metrics.keys())\n",
    "    axes[0].legend()\n",
    "    axes[0].set_ylim([0.1, 0.3])\n",
    "    \n",
    "    axes[1].set_ylabel('R2 Score')\n",
    "    axes[1].set_title('R2 Score by Model and Dataset')\n",
    "    axes[1].set_xticks(np.arange(len(metrics)))\n",
    "    axes[1].set_xticklabels(metrics.keys())\n",
    "    axes[1].legend()\n",
    "    axes[1].set_ylim([0.8, 1])\n",
    "    \n",
    "    # Adding values on top of the bars\n",
    "    for ax in axes:\n",
    "        for p in ax.patches:\n",
    "            height = p.get_height()\n",
    "            ax.annotate(f'{height:.2f}',\n",
    "                        xy=(p.get_x() + p.get_width() / 2, height),\n",
    "                        xytext=(0, 3),  # 3 points vertical offset\n",
    "                        textcoords=\"offset points\",\n",
    "                        ha='center', va='bottom')\n",
    "\n",
    "    fig.tight_layout()\n",
    "\n",
    "    plt.show()\n",
    "\n",
    "plot_metrics(model_metrics)\n"
   ]
  },
  {
   "cell_type": "markdown",
   "id": "06605e7d-79b8-4378-b8a9-20bf60a2706d",
   "metadata": {},
   "source": [
    "## Choosing the Model:\n"
   ]
  },
  {
   "cell_type": "code",
   "execution_count": null,
   "id": "e01c6e76-9dc8-432d-b056-c627e6e31001",
   "metadata": {},
   "outputs": [],
   "source": []
  }
 ],
 "metadata": {
  "kernelspec": {
   "display_name": "Python 3 (ipykernel)",
   "language": "python",
   "name": "python3"
  },
  "language_info": {
   "codemirror_mode": {
    "name": "ipython",
    "version": 3
   },
   "file_extension": ".py",
   "mimetype": "text/x-python",
   "name": "python",
   "nbconvert_exporter": "python",
   "pygments_lexer": "ipython3",
   "version": "3.11.7"
  }
 },
 "nbformat": 4,
 "nbformat_minor": 5
}
