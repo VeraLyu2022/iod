{
 "cells": [
  {
   "cell_type": "markdown",
   "id": "52bc22d6-140b-407c-ac22-18d5e426ab92",
   "metadata": {},
   "source": [
    "## libraries"
   ]
  },
  {
   "cell_type": "code",
   "execution_count": 1,
   "id": "64dff88a-ac88-4df2-a6a2-40e47891aeb2",
   "metadata": {},
   "outputs": [],
   "source": [
    "import pandas as pd\n",
    "import matplotlib.pyplot as plt\n",
    "import seaborn as sns\n",
    "import numpy as np"
   ]
  },
  {
   "cell_type": "code",
   "execution_count": null,
   "id": "f163945f-d442-418c-a7c4-4713322fbece",
   "metadata": {},
   "outputs": [],
   "source": [
    "def visualization_box_dist(df):\n",
    "    for c in df.columns:\n",
    "        fig, ax = plt.subplots(2,\n",
    "                               figsize = (10, 5),\n",
    "                               sharex = True,\n",
    "                               gridspec_kw = {'height_ratios': (0.15, 0.85)})\n",
    "    \n",
    "        ax_box = ax[0]\n",
    "        ax_box = sns.boxplot(df[c], ax = ax_box)\n",
    "        ax_box.set(title = c, yticks = [], xlabel = '')\n",
    "        sns.despine(ax = ax_box, left = True)\n",
    "    \n",
    "        ax_hist = ax[1]\n",
    "    \n",
    "        if c == 'Donated_Mar_2007':\n",
    "            ax_hist = sns.distplot(df[c], kde=False, ax = ax_hist, orient='h')\n",
    "            ax_hist.set(xlabel = '')\n",
    "            sns.despine(ax = ax_hist)\n",
    "        else:\n",
    "            ax_hist = sns.distplot(df[c], ax = ax_hist)\n",
    "            ax_hist.set(xlabel = '')\n",
    "            sns.despine(ax = ax_hist)\n",
    "    \n",
    "    \n",
    "    plt.show()"
   ]
  }
 ],
 "metadata": {
  "kernelspec": {
   "display_name": "Python 3 (ipykernel)",
   "language": "python",
   "name": "python3"
  },
  "language_info": {
   "codemirror_mode": {
    "name": "ipython",
    "version": 3
   },
   "file_extension": ".py",
   "mimetype": "text/x-python",
   "name": "python",
   "nbconvert_exporter": "python",
   "pygments_lexer": "ipython3",
   "version": "3.11.7"
  }
 },
 "nbformat": 4,
 "nbformat_minor": 5
}
