{
 "cells": [
  {
   "cell_type": "markdown",
   "id": "3fb4cbde-2d10-46af-9de5-92131c3f9ce0",
   "metadata": {},
   "source": [
    "## Library"
   ]
  },
  {
   "cell_type": "code",
   "execution_count": 2,
   "id": "7dd87f38-f30a-4de5-a56a-295e61500f52",
   "metadata": {
    "tags": []
   },
   "outputs": [],
   "source": [
    "import pandas as pd"
   ]
  },
  {
   "cell_type": "markdown",
   "id": "24b254a6-887f-487a-b555-7baeac977a2d",
   "metadata": {},
   "source": [
    "## Import Data"
   ]
  },
  {
   "cell_type": "code",
   "execution_count": 26,
   "id": "7889250d-5894-4715-bc22-3c57534d0500",
   "metadata": {
    "tags": []
   },
   "outputs": [],
   "source": [
    "data = pd.read_csv('monster_com-job_sample.csv')"
   ]
  },
  {
   "cell_type": "code",
   "execution_count": 27,
   "id": "74f6ea25-fe56-48b1-b63f-3a34d39012ae",
   "metadata": {
    "tags": []
   },
   "outputs": [
    {
     "data": {
      "text/html": [
       "<div>\n",
       "<style scoped>\n",
       "    .dataframe tbody tr th:only-of-type {\n",
       "        vertical-align: middle;\n",
       "    }\n",
       "\n",
       "    .dataframe tbody tr th {\n",
       "        vertical-align: top;\n",
       "    }\n",
       "\n",
       "    .dataframe thead th {\n",
       "        text-align: right;\n",
       "    }\n",
       "</style>\n",
       "<table border=\"1\" class=\"dataframe\">\n",
       "  <thead>\n",
       "    <tr style=\"text-align: right;\">\n",
       "      <th></th>\n",
       "      <th>country</th>\n",
       "      <th>country_code</th>\n",
       "      <th>date_added</th>\n",
       "      <th>has_expired</th>\n",
       "      <th>job_board</th>\n",
       "      <th>job_description</th>\n",
       "      <th>job_title</th>\n",
       "      <th>job_type</th>\n",
       "      <th>location</th>\n",
       "      <th>organization</th>\n",
       "      <th>page_url</th>\n",
       "      <th>salary</th>\n",
       "      <th>sector</th>\n",
       "      <th>uniq_id</th>\n",
       "    </tr>\n",
       "  </thead>\n",
       "  <tbody>\n",
       "    <tr>\n",
       "      <th>0</th>\n",
       "      <td>United States of America</td>\n",
       "      <td>US</td>\n",
       "      <td>NaN</td>\n",
       "      <td>No</td>\n",
       "      <td>jobs.monster.com</td>\n",
       "      <td>TeamSoft is seeing an IT Support Specialist to...</td>\n",
       "      <td>IT Support Technician Job in Madison</td>\n",
       "      <td>Full Time Employee</td>\n",
       "      <td>Madison, WI 53702</td>\n",
       "      <td>NaN</td>\n",
       "      <td>http://jobview.monster.com/it-support-technici...</td>\n",
       "      <td>NaN</td>\n",
       "      <td>IT/Software Development</td>\n",
       "      <td>11d599f229a80023d2f40e7c52cd941e</td>\n",
       "    </tr>\n",
       "    <tr>\n",
       "      <th>1</th>\n",
       "      <td>United States of America</td>\n",
       "      <td>US</td>\n",
       "      <td>NaN</td>\n",
       "      <td>No</td>\n",
       "      <td>jobs.monster.com</td>\n",
       "      <td>The Wisconsin State Journal is seeking a flexi...</td>\n",
       "      <td>Business Reporter/Editor Job in Madison</td>\n",
       "      <td>Full Time</td>\n",
       "      <td>Madison, WI 53708</td>\n",
       "      <td>Printing and Publishing</td>\n",
       "      <td>http://jobview.monster.com/business-reporter-e...</td>\n",
       "      <td>NaN</td>\n",
       "      <td>NaN</td>\n",
       "      <td>e4cbb126dabf22159aff90223243ff2a</td>\n",
       "    </tr>\n",
       "    <tr>\n",
       "      <th>2</th>\n",
       "      <td>United States of America</td>\n",
       "      <td>US</td>\n",
       "      <td>NaN</td>\n",
       "      <td>No</td>\n",
       "      <td>jobs.monster.com</td>\n",
       "      <td>Report this job About the Job DePuy Synthes Co...</td>\n",
       "      <td>Johnson &amp; Johnson Family of Companies Job Appl...</td>\n",
       "      <td>Full Time, Employee</td>\n",
       "      <td>DePuy Synthes Companies is a member of Johnson...</td>\n",
       "      <td>Personal and Household Services</td>\n",
       "      <td>http://jobview.monster.com/senior-training-lea...</td>\n",
       "      <td>NaN</td>\n",
       "      <td>NaN</td>\n",
       "      <td>839106b353877fa3d896ffb9c1fe01c0</td>\n",
       "    </tr>\n",
       "    <tr>\n",
       "      <th>3</th>\n",
       "      <td>United States of America</td>\n",
       "      <td>US</td>\n",
       "      <td>NaN</td>\n",
       "      <td>No</td>\n",
       "      <td>jobs.monster.com</td>\n",
       "      <td>Why Join Altec? If you’re considering a career...</td>\n",
       "      <td>Engineer - Quality Job in Dixon</td>\n",
       "      <td>Full Time</td>\n",
       "      <td>Dixon, CA</td>\n",
       "      <td>Altec Industries</td>\n",
       "      <td>http://jobview.monster.com/engineer-quality-jo...</td>\n",
       "      <td>NaN</td>\n",
       "      <td>Experienced (Non-Manager)</td>\n",
       "      <td>58435fcab804439efdcaa7ecca0fd783</td>\n",
       "    </tr>\n",
       "    <tr>\n",
       "      <th>4</th>\n",
       "      <td>United States of America</td>\n",
       "      <td>US</td>\n",
       "      <td>NaN</td>\n",
       "      <td>No</td>\n",
       "      <td>jobs.monster.com</td>\n",
       "      <td>Position ID#  76162 # Positions  1 State  CT C...</td>\n",
       "      <td>Shift Supervisor - Part-Time Job in Camphill</td>\n",
       "      <td>Full Time Employee</td>\n",
       "      <td>Camphill, PA</td>\n",
       "      <td>Retail</td>\n",
       "      <td>http://jobview.monster.com/shift-supervisor-pa...</td>\n",
       "      <td>NaN</td>\n",
       "      <td>Project/Program Management</td>\n",
       "      <td>64d0272dc8496abfd9523a8df63c184c</td>\n",
       "    </tr>\n",
       "  </tbody>\n",
       "</table>\n",
       "</div>"
      ],
      "text/plain": [
       "                    country country_code date_added has_expired  \\\n",
       "0  United States of America           US        NaN          No   \n",
       "1  United States of America           US        NaN          No   \n",
       "2  United States of America           US        NaN          No   \n",
       "3  United States of America           US        NaN          No   \n",
       "4  United States of America           US        NaN          No   \n",
       "\n",
       "          job_board                                    job_description  \\\n",
       "0  jobs.monster.com  TeamSoft is seeing an IT Support Specialist to...   \n",
       "1  jobs.monster.com  The Wisconsin State Journal is seeking a flexi...   \n",
       "2  jobs.monster.com  Report this job About the Job DePuy Synthes Co...   \n",
       "3  jobs.monster.com  Why Join Altec? If you’re considering a career...   \n",
       "4  jobs.monster.com  Position ID#  76162 # Positions  1 State  CT C...   \n",
       "\n",
       "                                           job_title             job_type  \\\n",
       "0               IT Support Technician Job in Madison   Full Time Employee   \n",
       "1            Business Reporter/Editor Job in Madison            Full Time   \n",
       "2  Johnson & Johnson Family of Companies Job Appl...  Full Time, Employee   \n",
       "3                    Engineer - Quality Job in Dixon            Full Time   \n",
       "4       Shift Supervisor - Part-Time Job in Camphill   Full Time Employee   \n",
       "\n",
       "                                            location  \\\n",
       "0                                  Madison, WI 53702   \n",
       "1                                  Madison, WI 53708   \n",
       "2  DePuy Synthes Companies is a member of Johnson...   \n",
       "3                                          Dixon, CA   \n",
       "4                                       Camphill, PA   \n",
       "\n",
       "                      organization  \\\n",
       "0                              NaN   \n",
       "1          Printing and Publishing   \n",
       "2  Personal and Household Services   \n",
       "3                 Altec Industries   \n",
       "4                           Retail   \n",
       "\n",
       "                                            page_url salary  \\\n",
       "0  http://jobview.monster.com/it-support-technici...    NaN   \n",
       "1  http://jobview.monster.com/business-reporter-e...    NaN   \n",
       "2  http://jobview.monster.com/senior-training-lea...    NaN   \n",
       "3  http://jobview.monster.com/engineer-quality-jo...    NaN   \n",
       "4  http://jobview.monster.com/shift-supervisor-pa...    NaN   \n",
       "\n",
       "                       sector                           uniq_id  \n",
       "0     IT/Software Development  11d599f229a80023d2f40e7c52cd941e  \n",
       "1                         NaN  e4cbb126dabf22159aff90223243ff2a  \n",
       "2                         NaN  839106b353877fa3d896ffb9c1fe01c0  \n",
       "3   Experienced (Non-Manager)  58435fcab804439efdcaa7ecca0fd783  \n",
       "4  Project/Program Management  64d0272dc8496abfd9523a8df63c184c  "
      ]
     },
     "execution_count": 27,
     "metadata": {},
     "output_type": "execute_result"
    }
   ],
   "source": [
    "data.head()"
   ]
  },
  {
   "cell_type": "code",
   "execution_count": 28,
   "id": "706106c8-8bcc-4b41-8ef2-c08df6ce258e",
   "metadata": {
    "tags": []
   },
   "outputs": [
    {
     "data": {
      "text/plain": [
       "(22000, 14)"
      ]
     },
     "execution_count": 28,
     "metadata": {},
     "output_type": "execute_result"
    }
   ],
   "source": [
    "data.shape"
   ]
  },
  {
   "cell_type": "code",
   "execution_count": 29,
   "id": "1a0f73c2-0afc-4bed-8df3-1c2d56e876e9",
   "metadata": {
    "tags": []
   },
   "outputs": [
    {
     "data": {
      "text/plain": [
       "country                0\n",
       "country_code           0\n",
       "date_added         21878\n",
       "has_expired            0\n",
       "job_board              0\n",
       "job_description        0\n",
       "job_title              0\n",
       "job_type            1628\n",
       "location               0\n",
       "organization        6867\n",
       "page_url               0\n",
       "salary             18554\n",
       "sector              5194\n",
       "uniq_id                0\n",
       "dtype: int64"
      ]
     },
     "execution_count": 29,
     "metadata": {},
     "output_type": "execute_result"
    }
   ],
   "source": [
    "data.isnull().sum()"
   ]
  },
  {
   "cell_type": "code",
   "execution_count": 30,
   "id": "f2cad24d-c8b9-44ff-8fc9-83b0b1d509b4",
   "metadata": {
    "tags": []
   },
   "outputs": [
    {
     "data": {
      "text/plain": [
       "array([nan, '5/10/2016', '5/13/2016', '5/9/2016', '6/10/2016', '1/2/2017',\n",
       "       '6/17/2016', '6/24/2016', '6/23/2016', '12/20/2016', '12/12/2016',\n",
       "       '7/15/2016', '7/8/2016', '10/31/2016', '10/28/2016', '4/28/2016',\n",
       "       '4/27/2016', '4/29/2016', '9/12/2016', '1/16/2017', '9/22/2016',\n",
       "       '3/25/2016', '6/20/2016', '11/17/2016', '7/11/2016', '12/7/2016',\n",
       "       '12/14/2016', '12/29/2016', '5/5/2016', '5/6/2016', '05/09/2016',\n",
       "       '8/11/2016', '3/17/2016', '4/4/2016', '4/7/2016', '4/6/2016',\n",
       "       '9/21/2016', '5/18/2016', '3/15/2016', '5/19/2016', '6/8/2016',\n",
       "       '6/7/2016', '10/18/2016', '12/2/2016', '11/7/2016', '3/29/2016',\n",
       "       '4/8/2016', '5/26/2016', '9/15/2016', '8/17/2016', '11/21/2016',\n",
       "       '12/15/2016', '10/27/2016', '10/25/2016', '6/27/2016', '7/5/2016',\n",
       "       '7/4/2016', '7/7/2016', '8/25/2016', '9/5/2016', '8/23/2016',\n",
       "       '9/2/2016', '9/1/2016', '8/31/2016', '9/26/2016', '8/5/2016',\n",
       "       '8/2/2016', '3/28/2016', '3/22/2016', '2/29/2016', '9/9/2016',\n",
       "       '3/11/2016', '3/21/2016', '3/7/2016', '6/3/2016', '6/30/2016',\n",
       "       '9/27/2016', '3/30/2016', '3/24/2016'], dtype=object)"
      ]
     },
     "execution_count": 30,
     "metadata": {},
     "output_type": "execute_result"
    }
   ],
   "source": [
    "data['date_added'].unique()"
   ]
  },
  {
   "cell_type": "code",
   "execution_count": 31,
   "id": "d611e8e5-21bf-4adf-a5cf-d9e1d0fb7de0",
   "metadata": {
    "tags": []
   },
   "outputs": [
    {
     "data": {
      "text/plain": [
       "salary\n",
       "40,000.00 - 100,000.00 $ /year                                          50\n",
       "Commensurate with Experience                                            38\n",
       "50,000.00 - 60,000.00 $ /year                                           32\n",
       "75,000.00 - 85,000.00 $ /year                                           27\n",
       "40,000.00 - 50,000.00 $ /year                                           26\n",
       "                                                                        ..\n",
       "0.00 - 85,000.00 $ /yearbonuses, relocation money, etc                   1\n",
       "80,000.00 - 95,000.00 $ /yearBenefits, Competitive Bonus, Relocation     1\n",
       "$85.00+ /year                                                            1\n",
       "34.00+ /hour                                                             1\n",
       "40,000.00 - 46,000.00 $ /year+ annual bonus (up to 15% of salary)        1\n",
       "Name: count, Length: 1737, dtype: int64"
      ]
     },
     "execution_count": 31,
     "metadata": {},
     "output_type": "execute_result"
    }
   ],
   "source": [
    "data['salary'].value_counts()"
   ]
  },
  {
   "cell_type": "code",
   "execution_count": 32,
   "id": "70ce6774-bd24-46f2-aef1-eb4e9c06d6be",
   "metadata": {
    "tags": []
   },
   "outputs": [
    {
     "data": {
      "text/plain": [
       "array([nan, '9.00 - 13.00 $ /hour', '80,000.00 - 95,000.00 $ /year', ...,\n",
       "       '$80,000.00+ /year', '120,000.00 - 160,000.00 $ /yearbonus',\n",
       "       '40,000.00 - 46,000.00 $ /year+ annual bonus (up to 15% of salary)'],\n",
       "      dtype=object)"
      ]
     },
     "execution_count": 32,
     "metadata": {},
     "output_type": "execute_result"
    }
   ],
   "source": [
    "data['salary'].unique()"
   ]
  },
  {
   "cell_type": "code",
   "execution_count": 33,
   "id": "4eb5b313-f06d-441a-b7ee-af0b67355417",
   "metadata": {
    "tags": []
   },
   "outputs": [
    {
     "name": "stdout",
     "output_type": "stream",
     "text": [
      "<class 'pandas.core.frame.DataFrame'>\n",
      "RangeIndex: 22000 entries, 0 to 21999\n",
      "Data columns (total 14 columns):\n",
      " #   Column           Non-Null Count  Dtype \n",
      "---  ------           --------------  ----- \n",
      " 0   country          22000 non-null  object\n",
      " 1   country_code     22000 non-null  object\n",
      " 2   date_added       122 non-null    object\n",
      " 3   has_expired      22000 non-null  object\n",
      " 4   job_board        22000 non-null  object\n",
      " 5   job_description  22000 non-null  object\n",
      " 6   job_title        22000 non-null  object\n",
      " 7   job_type         20372 non-null  object\n",
      " 8   location         22000 non-null  object\n",
      " 9   organization     15133 non-null  object\n",
      " 10  page_url         22000 non-null  object\n",
      " 11  salary           3446 non-null   object\n",
      " 12  sector           16806 non-null  object\n",
      " 13  uniq_id          22000 non-null  object\n",
      "dtypes: object(14)\n",
      "memory usage: 2.3+ MB\n"
     ]
    }
   ],
   "source": [
    "data.info()"
   ]
  },
  {
   "cell_type": "code",
   "execution_count": 34,
   "id": "3159c540-4875-4132-a9ba-3ce84bfc750c",
   "metadata": {
    "tags": []
   },
   "outputs": [
    {
     "data": {
      "text/plain": [
       "array(['United States of America'], dtype=object)"
      ]
     },
     "execution_count": 34,
     "metadata": {},
     "output_type": "execute_result"
    }
   ],
   "source": [
    "data['country'].unique()"
   ]
  },
  {
   "cell_type": "code",
   "execution_count": 35,
   "id": "e18cbb72-00ef-4c33-a92f-31fe7372e419",
   "metadata": {
    "tags": []
   },
   "outputs": [
    {
     "data": {
      "text/plain": [
       "array(['No'], dtype=object)"
      ]
     },
     "execution_count": 35,
     "metadata": {},
     "output_type": "execute_result"
    }
   ],
   "source": [
    "data['has_expired'].unique()"
   ]
  },
  {
   "cell_type": "code",
   "execution_count": 36,
   "id": "eadfa6af-ecd5-4622-a906-47e13ffaaee4",
   "metadata": {
    "tags": []
   },
   "outputs": [
    {
     "data": {
      "text/plain": [
       "job_title\n",
       "Monster                                                 318\n",
       "Shift Supervisor Job in Camphill                        256\n",
       "RN                                                       70\n",
       "Shift Supervisor - Part-Time Job in Camphill             56\n",
       "Manager                                                  50\n",
       "                                                       ... \n",
       "Sales Job in Knoxville                                    1\n",
       "Merchandiser Job in Madison                               1\n",
       "Retail Project Merchandiser Part Time Job in Madison      1\n",
       "Senior Windows Systems Administrator* Job in Madison      1\n",
       "Contract Administrator Job in Cincinnati                  1\n",
       "Name: count, Length: 18759, dtype: int64"
      ]
     },
     "execution_count": 36,
     "metadata": {},
     "output_type": "execute_result"
    }
   ],
   "source": [
    "data['job_title'].value_counts()"
   ]
  },
  {
   "cell_type": "markdown",
   "id": "f614ccfe-da7f-41b9-aae5-b7cb9fb79a19",
   "metadata": {},
   "source": [
    "#### Drop columns that has only one value in all examples like 'country'"
   ]
  },
  {
   "cell_type": "code",
   "execution_count": 37,
   "id": "aaced6ff-51af-4f63-a1e0-b7dea7bbea53",
   "metadata": {
    "tags": []
   },
   "outputs": [],
   "source": [
    "data.drop(['country', 'country_code', 'has_expired', 'job_board'],axis=1,  inplace=True)"
   ]
  },
  {
   "cell_type": "code",
   "execution_count": 38,
   "id": "30416bf7-d116-423a-8eb0-f60646eb4cb0",
   "metadata": {
    "tags": []
   },
   "outputs": [
    {
     "data": {
      "text/html": [
       "<div>\n",
       "<style scoped>\n",
       "    .dataframe tbody tr th:only-of-type {\n",
       "        vertical-align: middle;\n",
       "    }\n",
       "\n",
       "    .dataframe tbody tr th {\n",
       "        vertical-align: top;\n",
       "    }\n",
       "\n",
       "    .dataframe thead th {\n",
       "        text-align: right;\n",
       "    }\n",
       "</style>\n",
       "<table border=\"1\" class=\"dataframe\">\n",
       "  <thead>\n",
       "    <tr style=\"text-align: right;\">\n",
       "      <th></th>\n",
       "      <th>date_added</th>\n",
       "      <th>job_description</th>\n",
       "      <th>job_title</th>\n",
       "      <th>job_type</th>\n",
       "      <th>location</th>\n",
       "      <th>organization</th>\n",
       "      <th>page_url</th>\n",
       "      <th>salary</th>\n",
       "      <th>sector</th>\n",
       "      <th>uniq_id</th>\n",
       "    </tr>\n",
       "  </thead>\n",
       "  <tbody>\n",
       "    <tr>\n",
       "      <th>0</th>\n",
       "      <td>NaN</td>\n",
       "      <td>TeamSoft is seeing an IT Support Specialist to...</td>\n",
       "      <td>IT Support Technician Job in Madison</td>\n",
       "      <td>Full Time Employee</td>\n",
       "      <td>Madison, WI 53702</td>\n",
       "      <td>NaN</td>\n",
       "      <td>http://jobview.monster.com/it-support-technici...</td>\n",
       "      <td>NaN</td>\n",
       "      <td>IT/Software Development</td>\n",
       "      <td>11d599f229a80023d2f40e7c52cd941e</td>\n",
       "    </tr>\n",
       "    <tr>\n",
       "      <th>1</th>\n",
       "      <td>NaN</td>\n",
       "      <td>The Wisconsin State Journal is seeking a flexi...</td>\n",
       "      <td>Business Reporter/Editor Job in Madison</td>\n",
       "      <td>Full Time</td>\n",
       "      <td>Madison, WI 53708</td>\n",
       "      <td>Printing and Publishing</td>\n",
       "      <td>http://jobview.monster.com/business-reporter-e...</td>\n",
       "      <td>NaN</td>\n",
       "      <td>NaN</td>\n",
       "      <td>e4cbb126dabf22159aff90223243ff2a</td>\n",
       "    </tr>\n",
       "    <tr>\n",
       "      <th>2</th>\n",
       "      <td>NaN</td>\n",
       "      <td>Report this job About the Job DePuy Synthes Co...</td>\n",
       "      <td>Johnson &amp; Johnson Family of Companies Job Appl...</td>\n",
       "      <td>Full Time, Employee</td>\n",
       "      <td>DePuy Synthes Companies is a member of Johnson...</td>\n",
       "      <td>Personal and Household Services</td>\n",
       "      <td>http://jobview.monster.com/senior-training-lea...</td>\n",
       "      <td>NaN</td>\n",
       "      <td>NaN</td>\n",
       "      <td>839106b353877fa3d896ffb9c1fe01c0</td>\n",
       "    </tr>\n",
       "    <tr>\n",
       "      <th>3</th>\n",
       "      <td>NaN</td>\n",
       "      <td>Why Join Altec? If you’re considering a career...</td>\n",
       "      <td>Engineer - Quality Job in Dixon</td>\n",
       "      <td>Full Time</td>\n",
       "      <td>Dixon, CA</td>\n",
       "      <td>Altec Industries</td>\n",
       "      <td>http://jobview.monster.com/engineer-quality-jo...</td>\n",
       "      <td>NaN</td>\n",
       "      <td>Experienced (Non-Manager)</td>\n",
       "      <td>58435fcab804439efdcaa7ecca0fd783</td>\n",
       "    </tr>\n",
       "    <tr>\n",
       "      <th>4</th>\n",
       "      <td>NaN</td>\n",
       "      <td>Position ID#  76162 # Positions  1 State  CT C...</td>\n",
       "      <td>Shift Supervisor - Part-Time Job in Camphill</td>\n",
       "      <td>Full Time Employee</td>\n",
       "      <td>Camphill, PA</td>\n",
       "      <td>Retail</td>\n",
       "      <td>http://jobview.monster.com/shift-supervisor-pa...</td>\n",
       "      <td>NaN</td>\n",
       "      <td>Project/Program Management</td>\n",
       "      <td>64d0272dc8496abfd9523a8df63c184c</td>\n",
       "    </tr>\n",
       "  </tbody>\n",
       "</table>\n",
       "</div>"
      ],
      "text/plain": [
       "  date_added                                    job_description  \\\n",
       "0        NaN  TeamSoft is seeing an IT Support Specialist to...   \n",
       "1        NaN  The Wisconsin State Journal is seeking a flexi...   \n",
       "2        NaN  Report this job About the Job DePuy Synthes Co...   \n",
       "3        NaN  Why Join Altec? If you’re considering a career...   \n",
       "4        NaN  Position ID#  76162 # Positions  1 State  CT C...   \n",
       "\n",
       "                                           job_title             job_type  \\\n",
       "0               IT Support Technician Job in Madison   Full Time Employee   \n",
       "1            Business Reporter/Editor Job in Madison            Full Time   \n",
       "2  Johnson & Johnson Family of Companies Job Appl...  Full Time, Employee   \n",
       "3                    Engineer - Quality Job in Dixon            Full Time   \n",
       "4       Shift Supervisor - Part-Time Job in Camphill   Full Time Employee   \n",
       "\n",
       "                                            location  \\\n",
       "0                                  Madison, WI 53702   \n",
       "1                                  Madison, WI 53708   \n",
       "2  DePuy Synthes Companies is a member of Johnson...   \n",
       "3                                          Dixon, CA   \n",
       "4                                       Camphill, PA   \n",
       "\n",
       "                      organization  \\\n",
       "0                              NaN   \n",
       "1          Printing and Publishing   \n",
       "2  Personal and Household Services   \n",
       "3                 Altec Industries   \n",
       "4                           Retail   \n",
       "\n",
       "                                            page_url salary  \\\n",
       "0  http://jobview.monster.com/it-support-technici...    NaN   \n",
       "1  http://jobview.monster.com/business-reporter-e...    NaN   \n",
       "2  http://jobview.monster.com/senior-training-lea...    NaN   \n",
       "3  http://jobview.monster.com/engineer-quality-jo...    NaN   \n",
       "4  http://jobview.monster.com/shift-supervisor-pa...    NaN   \n",
       "\n",
       "                       sector                           uniq_id  \n",
       "0     IT/Software Development  11d599f229a80023d2f40e7c52cd941e  \n",
       "1                         NaN  e4cbb126dabf22159aff90223243ff2a  \n",
       "2                         NaN  839106b353877fa3d896ffb9c1fe01c0  \n",
       "3   Experienced (Non-Manager)  58435fcab804439efdcaa7ecca0fd783  \n",
       "4  Project/Program Management  64d0272dc8496abfd9523a8df63c184c  "
      ]
     },
     "execution_count": 38,
     "metadata": {},
     "output_type": "execute_result"
    }
   ],
   "source": [
    "data.head()"
   ]
  },
  {
   "cell_type": "markdown",
   "id": "6f200225-02dd-47d6-b1a6-8a49f2626cbc",
   "metadata": {
    "tags": []
   },
   "source": [
    "#### drop columns that we would not use such as the links and id."
   ]
  },
  {
   "cell_type": "code",
   "execution_count": 43,
   "id": "b2907058-55eb-4260-947b-01794a52fb7d",
   "metadata": {
    "tags": []
   },
   "outputs": [],
   "source": [
    "data.drop(['page_url', 'uniq_id'], axis=1, inplace=True)"
   ]
  },
  {
   "cell_type": "code",
   "execution_count": 44,
   "id": "647c1a82-dccf-44ca-8226-83e168bddf6e",
   "metadata": {
    "tags": []
   },
   "outputs": [
    {
     "data": {
      "text/html": [
       "<div>\n",
       "<style scoped>\n",
       "    .dataframe tbody tr th:only-of-type {\n",
       "        vertical-align: middle;\n",
       "    }\n",
       "\n",
       "    .dataframe tbody tr th {\n",
       "        vertical-align: top;\n",
       "    }\n",
       "\n",
       "    .dataframe thead th {\n",
       "        text-align: right;\n",
       "    }\n",
       "</style>\n",
       "<table border=\"1\" class=\"dataframe\">\n",
       "  <thead>\n",
       "    <tr style=\"text-align: right;\">\n",
       "      <th></th>\n",
       "      <th>date_added</th>\n",
       "      <th>job_description</th>\n",
       "      <th>job_title</th>\n",
       "      <th>job_type</th>\n",
       "      <th>location</th>\n",
       "      <th>organization</th>\n",
       "      <th>salary</th>\n",
       "      <th>sector</th>\n",
       "    </tr>\n",
       "  </thead>\n",
       "  <tbody>\n",
       "    <tr>\n",
       "      <th>0</th>\n",
       "      <td>NaN</td>\n",
       "      <td>TeamSoft is seeing an IT Support Specialist to...</td>\n",
       "      <td>IT Support Technician Job in Madison</td>\n",
       "      <td>Full Time Employee</td>\n",
       "      <td>Madison, WI 53702</td>\n",
       "      <td>NaN</td>\n",
       "      <td>NaN</td>\n",
       "      <td>IT/Software Development</td>\n",
       "    </tr>\n",
       "    <tr>\n",
       "      <th>1</th>\n",
       "      <td>NaN</td>\n",
       "      <td>The Wisconsin State Journal is seeking a flexi...</td>\n",
       "      <td>Business Reporter/Editor Job in Madison</td>\n",
       "      <td>Full Time</td>\n",
       "      <td>Madison, WI 53708</td>\n",
       "      <td>Printing and Publishing</td>\n",
       "      <td>NaN</td>\n",
       "      <td>NaN</td>\n",
       "    </tr>\n",
       "    <tr>\n",
       "      <th>2</th>\n",
       "      <td>NaN</td>\n",
       "      <td>Report this job About the Job DePuy Synthes Co...</td>\n",
       "      <td>Johnson &amp; Johnson Family of Companies Job Appl...</td>\n",
       "      <td>Full Time, Employee</td>\n",
       "      <td>DePuy Synthes Companies is a member of Johnson...</td>\n",
       "      <td>Personal and Household Services</td>\n",
       "      <td>NaN</td>\n",
       "      <td>NaN</td>\n",
       "    </tr>\n",
       "    <tr>\n",
       "      <th>3</th>\n",
       "      <td>NaN</td>\n",
       "      <td>Why Join Altec? If you’re considering a career...</td>\n",
       "      <td>Engineer - Quality Job in Dixon</td>\n",
       "      <td>Full Time</td>\n",
       "      <td>Dixon, CA</td>\n",
       "      <td>Altec Industries</td>\n",
       "      <td>NaN</td>\n",
       "      <td>Experienced (Non-Manager)</td>\n",
       "    </tr>\n",
       "    <tr>\n",
       "      <th>4</th>\n",
       "      <td>NaN</td>\n",
       "      <td>Position ID#  76162 # Positions  1 State  CT C...</td>\n",
       "      <td>Shift Supervisor - Part-Time Job in Camphill</td>\n",
       "      <td>Full Time Employee</td>\n",
       "      <td>Camphill, PA</td>\n",
       "      <td>Retail</td>\n",
       "      <td>NaN</td>\n",
       "      <td>Project/Program Management</td>\n",
       "    </tr>\n",
       "  </tbody>\n",
       "</table>\n",
       "</div>"
      ],
      "text/plain": [
       "  date_added                                    job_description  \\\n",
       "0        NaN  TeamSoft is seeing an IT Support Specialist to...   \n",
       "1        NaN  The Wisconsin State Journal is seeking a flexi...   \n",
       "2        NaN  Report this job About the Job DePuy Synthes Co...   \n",
       "3        NaN  Why Join Altec? If you’re considering a career...   \n",
       "4        NaN  Position ID#  76162 # Positions  1 State  CT C...   \n",
       "\n",
       "                                           job_title             job_type  \\\n",
       "0               IT Support Technician Job in Madison   Full Time Employee   \n",
       "1            Business Reporter/Editor Job in Madison            Full Time   \n",
       "2  Johnson & Johnson Family of Companies Job Appl...  Full Time, Employee   \n",
       "3                    Engineer - Quality Job in Dixon            Full Time   \n",
       "4       Shift Supervisor - Part-Time Job in Camphill   Full Time Employee   \n",
       "\n",
       "                                            location  \\\n",
       "0                                  Madison, WI 53702   \n",
       "1                                  Madison, WI 53708   \n",
       "2  DePuy Synthes Companies is a member of Johnson...   \n",
       "3                                          Dixon, CA   \n",
       "4                                       Camphill, PA   \n",
       "\n",
       "                      organization salary                      sector  \n",
       "0                              NaN    NaN     IT/Software Development  \n",
       "1          Printing and Publishing    NaN                         NaN  \n",
       "2  Personal and Household Services    NaN                         NaN  \n",
       "3                 Altec Industries    NaN   Experienced (Non-Manager)  \n",
       "4                           Retail    NaN  Project/Program Management  "
      ]
     },
     "execution_count": 44,
     "metadata": {},
     "output_type": "execute_result"
    }
   ],
   "source": [
    "data.head()"
   ]
  },
  {
   "cell_type": "code",
   "execution_count": 40,
   "id": "13ee11ac-cc28-4586-b139-d86b9a4c80ff",
   "metadata": {
    "tags": []
   },
   "outputs": [
    {
     "data": {
      "text/plain": [
       "job_title\n",
       "Monster                                                 318\n",
       "Shift Supervisor Job in Camphill                        256\n",
       "RN                                                       70\n",
       "Shift Supervisor - Part-Time Job in Camphill             56\n",
       "Manager                                                  50\n",
       "                                                       ... \n",
       "Sales Job in Knoxville                                    1\n",
       "Merchandiser Job in Madison                               1\n",
       "Retail Project Merchandiser Part Time Job in Madison      1\n",
       "Senior Windows Systems Administrator* Job in Madison      1\n",
       "Contract Administrator Job in Cincinnati                  1\n",
       "Name: count, Length: 18759, dtype: int64"
      ]
     },
     "execution_count": 40,
     "metadata": {},
     "output_type": "execute_result"
    }
   ],
   "source": [
    "data['job_title'].value_counts()"
   ]
  },
  {
   "cell_type": "code",
   "execution_count": 45,
   "id": "a9249331-23b6-48b7-ad2c-7dd9e09e2d40",
   "metadata": {
    "tags": []
   },
   "outputs": [
    {
     "data": {
      "text/html": [
       "<div>\n",
       "<style scoped>\n",
       "    .dataframe tbody tr th:only-of-type {\n",
       "        vertical-align: middle;\n",
       "    }\n",
       "\n",
       "    .dataframe tbody tr th {\n",
       "        vertical-align: top;\n",
       "    }\n",
       "\n",
       "    .dataframe thead th {\n",
       "        text-align: right;\n",
       "    }\n",
       "</style>\n",
       "<table border=\"1\" class=\"dataframe\">\n",
       "  <thead>\n",
       "    <tr style=\"text-align: right;\">\n",
       "      <th></th>\n",
       "      <th>date_added</th>\n",
       "      <th>job_description</th>\n",
       "      <th>job_title</th>\n",
       "      <th>job_type</th>\n",
       "      <th>location</th>\n",
       "      <th>organization</th>\n",
       "      <th>salary</th>\n",
       "      <th>sector</th>\n",
       "    </tr>\n",
       "  </thead>\n",
       "  <tbody>\n",
       "    <tr>\n",
       "      <th>count</th>\n",
       "      <td>122</td>\n",
       "      <td>22000</td>\n",
       "      <td>22000</td>\n",
       "      <td>20372</td>\n",
       "      <td>22000</td>\n",
       "      <td>15133</td>\n",
       "      <td>3446</td>\n",
       "      <td>16806</td>\n",
       "    </tr>\n",
       "    <tr>\n",
       "      <th>unique</th>\n",
       "      <td>78</td>\n",
       "      <td>18744</td>\n",
       "      <td>18759</td>\n",
       "      <td>39</td>\n",
       "      <td>8423</td>\n",
       "      <td>738</td>\n",
       "      <td>1737</td>\n",
       "      <td>163</td>\n",
       "    </tr>\n",
       "    <tr>\n",
       "      <th>top</th>\n",
       "      <td>9/22/2016</td>\n",
       "      <td>12N Horizontal Construction Engineers Job Desc...</td>\n",
       "      <td>Monster</td>\n",
       "      <td>Full Time</td>\n",
       "      <td>Dallas, TX</td>\n",
       "      <td>Healthcare Services</td>\n",
       "      <td>40,000.00 - 100,000.00 $ /year</td>\n",
       "      <td>Experienced (Non-Manager)</td>\n",
       "    </tr>\n",
       "    <tr>\n",
       "      <th>freq</th>\n",
       "      <td>6</td>\n",
       "      <td>104</td>\n",
       "      <td>318</td>\n",
       "      <td>6757</td>\n",
       "      <td>646</td>\n",
       "      <td>1919</td>\n",
       "      <td>50</td>\n",
       "      <td>4594</td>\n",
       "    </tr>\n",
       "  </tbody>\n",
       "</table>\n",
       "</div>"
      ],
      "text/plain": [
       "       date_added                                    job_description  \\\n",
       "count         122                                              22000   \n",
       "unique         78                                              18744   \n",
       "top     9/22/2016  12N Horizontal Construction Engineers Job Desc...   \n",
       "freq            6                                                104   \n",
       "\n",
       "       job_title   job_type    location         organization  \\\n",
       "count      22000      20372       22000                15133   \n",
       "unique     18759         39        8423                  738   \n",
       "top      Monster  Full Time  Dallas, TX  Healthcare Services   \n",
       "freq         318       6757         646                 1919   \n",
       "\n",
       "                                salary                     sector  \n",
       "count                             3446                      16806  \n",
       "unique                            1737                        163  \n",
       "top     40,000.00 - 100,000.00 $ /year  Experienced (Non-Manager)  \n",
       "freq                                50                       4594  "
      ]
     },
     "execution_count": 45,
     "metadata": {},
     "output_type": "execute_result"
    }
   ],
   "source": [
    "data.describe()"
   ]
  },
  {
   "cell_type": "code",
   "execution_count": 46,
   "id": "424077de-aab9-4f6f-b794-b65418ff3b40",
   "metadata": {
    "tags": []
   },
   "outputs": [
    {
     "data": {
      "text/plain": [
       "job_type\n",
       "Full Time                                        6757\n",
       "Full Time Employee                               6617\n",
       "Full Time, Employee                              3360\n",
       "Full Time Temporary/Contract/Project             1062\n",
       "Full Time, Temporary/Contract/Project             533\n",
       "Full Time , Employee                              406\n",
       "Part Time Employee                                382\n",
       "Part Time                                         329\n",
       "Part Time, Employee                               196\n",
       "Temporary/Contract/Project                        193\n",
       "Employee                                          147\n",
       "Full Time / Employee                              121\n",
       "Full Time , Temporary/Contract/Project             56\n",
       "Part Time, Temporary/Contract/Project              34\n",
       "Per Diem, Employee                                 29\n",
       "Per Diem                                           22\n",
       "Job Type Full Time Employee                        19\n",
       "Part Time Seasonal                                 17\n",
       "Part Time/ Temporary/Contract/Project              16\n",
       "Full Time                                          14\n",
       "Full Time/ Employee                                13\n",
       "Per Diem Employee                                  12\n",
       "Part Time Temporary/Contract/Project                6\n",
       "Full Time Intern                                    5\n",
       "Per Diem, Temporary/Contract/Project                4\n",
       "Part Time , Employee                                4\n",
       "Part Time Intern                                    2\n",
       "Job Type Full Time Temporary/Contract/Project       2\n",
       "Part Time / Employee                                2\n",
       "Job Type Full Time                                  2\n",
       "Job Type Part Time Employee                         2\n",
       "Full Time / > Employee                              1\n",
       "Part Time                                           1\n",
       "Full Time  Employee                                 1\n",
       "Full Time / Temporary/Contract/Project              1\n",
       "Part Time, Intern                                   1\n",
       "Part Time , Temporary/Contract/Project              1\n",
       "Exempt                                              1\n",
       "Job Type Employee                                   1\n",
       "Name: count, dtype: int64"
      ]
     },
     "execution_count": 46,
     "metadata": {},
     "output_type": "execute_result"
    }
   ],
   "source": [
    "data['job_type'].value_counts()"
   ]
  },
  {
   "cell_type": "code",
   "execution_count": 49,
   "id": "d7582d76-a1e0-4206-9439-9b031ff7de55",
   "metadata": {
    "tags": []
   },
   "outputs": [],
   "source": [
    "data['job_type'] = data['job_type'].str.replace('Employee', '', regex=False)"
   ]
  },
  {
   "cell_type": "code",
   "execution_count": 50,
   "id": "b03b348b-0503-4d7e-aba2-1b80e17b2a39",
   "metadata": {
    "tags": []
   },
   "outputs": [
    {
     "data": {
      "text/plain": [
       "job_type\n",
       "Full Time                                        6757\n",
       "Full Time                                        6617\n",
       "Full Time,                                       3360\n",
       "Full Time Temporary/Contract/Project             1062\n",
       "Full Time, Temporary/Contract/Project             533\n",
       "Full Time ,                                       406\n",
       "Part Time                                         382\n",
       "Part Time                                         329\n",
       "Part Time,                                        196\n",
       "Temporary/Contract/Project                        193\n",
       "                                                  147\n",
       "Full Time /                                       121\n",
       "Full Time , Temporary/Contract/Project             56\n",
       "Part Time, Temporary/Contract/Project              34\n",
       "Per Diem,                                          29\n",
       "Per Diem                                           22\n",
       "Job Type Full Time                                 19\n",
       "Part Time Seasonal                                 17\n",
       "Part Time/ Temporary/Contract/Project              16\n",
       "Full Time                                          14\n",
       "Full Time/                                         13\n",
       "Per Diem                                           12\n",
       "Part Time Temporary/Contract/Project                6\n",
       "Full Time Intern                                    5\n",
       "Per Diem, Temporary/Contract/Project                4\n",
       "Part Time ,                                         4\n",
       "Part Time Intern                                    2\n",
       "Job Type Full Time Temporary/Contract/Project       2\n",
       "Part Time /                                         2\n",
       "Job Type Full Time                                  2\n",
       "Job Type Part Time                                  2\n",
       "Full Time / >                                       1\n",
       "Part Time                                           1\n",
       "Full Time                                           1\n",
       "Full Time / Temporary/Contract/Project              1\n",
       "Part Time, Intern                                   1\n",
       "Part Time , Temporary/Contract/Project              1\n",
       "Exempt                                              1\n",
       "Job Type                                            1\n",
       "Name: count, dtype: int64"
      ]
     },
     "execution_count": 50,
     "metadata": {},
     "output_type": "execute_result"
    }
   ],
   "source": [
    "data['job_type'].value_counts()"
   ]
  },
  {
   "cell_type": "code",
   "execution_count": null,
   "id": "6a7bd884-01e2-4012-9bb1-85e90fae5fc0",
   "metadata": {},
   "outputs": [],
   "source": []
  }
 ],
 "metadata": {
  "kernelspec": {
   "display_name": "Python 3 (ipykernel)",
   "language": "python",
   "name": "python3"
  },
  "language_info": {
   "codemirror_mode": {
    "name": "ipython",
    "version": 3
   },
   "file_extension": ".py",
   "mimetype": "text/x-python",
   "name": "python",
   "nbconvert_exporter": "python",
   "pygments_lexer": "ipython3",
   "version": "3.11.5"
  }
 },
 "nbformat": 4,
 "nbformat_minor": 5
}
