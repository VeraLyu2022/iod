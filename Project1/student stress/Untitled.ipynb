{
 "cells": [
  {
   "cell_type": "code",
   "execution_count": 2,
   "id": "2c4f1b73-26ed-4636-94dd-c199400bb74d",
   "metadata": {
    "tags": []
   },
   "outputs": [
    {
     "data": {
      "text/html": [
       "<div>\n",
       "<style scoped>\n",
       "    .dataframe tbody tr th:only-of-type {\n",
       "        vertical-align: middle;\n",
       "    }\n",
       "\n",
       "    .dataframe tbody tr th {\n",
       "        vertical-align: top;\n",
       "    }\n",
       "\n",
       "    .dataframe thead th {\n",
       "        text-align: right;\n",
       "    }\n",
       "</style>\n",
       "<table border=\"1\" class=\"dataframe\">\n",
       "  <thead>\n",
       "    <tr style=\"text-align: right;\">\n",
       "      <th></th>\n",
       "      <th>Kindly Rate your Sleep Quality 😴</th>\n",
       "      <th>How many times a week do you suffer headaches 🤕?</th>\n",
       "      <th>How would you rate you academic performance 👩‍🎓?</th>\n",
       "      <th>how would you rate your study load?</th>\n",
       "      <th>How many times a week you practice extracurricular activities 🎾?</th>\n",
       "      <th>How would you rate your stress levels?</th>\n",
       "    </tr>\n",
       "  </thead>\n",
       "  <tbody>\n",
       "    <tr>\n",
       "      <th>0</th>\n",
       "      <td>3</td>\n",
       "      <td>1</td>\n",
       "      <td>3</td>\n",
       "      <td>4</td>\n",
       "      <td>2</td>\n",
       "      <td>3</td>\n",
       "    </tr>\n",
       "    <tr>\n",
       "      <th>1</th>\n",
       "      <td>4</td>\n",
       "      <td>1</td>\n",
       "      <td>2</td>\n",
       "      <td>3</td>\n",
       "      <td>3</td>\n",
       "      <td>2</td>\n",
       "    </tr>\n",
       "    <tr>\n",
       "      <th>2</th>\n",
       "      <td>2</td>\n",
       "      <td>1</td>\n",
       "      <td>2</td>\n",
       "      <td>1</td>\n",
       "      <td>4</td>\n",
       "      <td>4</td>\n",
       "    </tr>\n",
       "    <tr>\n",
       "      <th>3</th>\n",
       "      <td>3</td>\n",
       "      <td>2</td>\n",
       "      <td>3</td>\n",
       "      <td>2</td>\n",
       "      <td>3</td>\n",
       "      <td>3</td>\n",
       "    </tr>\n",
       "    <tr>\n",
       "      <th>4</th>\n",
       "      <td>2</td>\n",
       "      <td>3</td>\n",
       "      <td>1</td>\n",
       "      <td>5</td>\n",
       "      <td>5</td>\n",
       "      <td>3</td>\n",
       "    </tr>\n",
       "  </tbody>\n",
       "</table>\n",
       "</div>"
      ],
      "text/plain": [
       "   Kindly Rate your Sleep Quality 😴  \\\n",
       "0                                 3   \n",
       "1                                 4   \n",
       "2                                 2   \n",
       "3                                 3   \n",
       "4                                 2   \n",
       "\n",
       "   How many times a week do you suffer headaches 🤕?  \\\n",
       "0                                                 1   \n",
       "1                                                 1   \n",
       "2                                                 1   \n",
       "3                                                 2   \n",
       "4                                                 3   \n",
       "\n",
       "   How would you rate you academic performance 👩‍🎓?  \\\n",
       "0                                                 3   \n",
       "1                                                 2   \n",
       "2                                                 2   \n",
       "3                                                 3   \n",
       "4                                                 1   \n",
       "\n",
       "   how would you rate your study load?  \\\n",
       "0                                    4   \n",
       "1                                    3   \n",
       "2                                    1   \n",
       "3                                    2   \n",
       "4                                    5   \n",
       "\n",
       "   How many times a week you practice extracurricular activities 🎾?  \\\n",
       "0                                                  2                  \n",
       "1                                                  3                  \n",
       "2                                                  4                  \n",
       "3                                                  3                  \n",
       "4                                                  5                  \n",
       "\n",
       "   How would you rate your stress levels?  \n",
       "0                                       3  \n",
       "1                                       2  \n",
       "2                                       4  \n",
       "3                                       3  \n",
       "4                                       3  "
      ]
     },
     "execution_count": 2,
     "metadata": {},
     "output_type": "execute_result"
    }
   ],
   "source": [
    "import pandas as pd\n",
    "stress = pd.read_csv('/Users/vera/DS&AI/iod/Project1/student stress/Student Stress Factors (2).csv')\n",
    "stress.head()"
   ]
  },
  {
   "cell_type": "code",
   "execution_count": 3,
   "id": "60767168-0aaa-4abf-84df-b44ce0674e0d",
   "metadata": {
    "tags": []
   },
   "outputs": [
    {
     "data": {
      "text/plain": [
       "(520, 6)"
      ]
     },
     "execution_count": 3,
     "metadata": {},
     "output_type": "execute_result"
    }
   ],
   "source": [
    "stress.shape"
   ]
  },
  {
   "cell_type": "code",
   "execution_count": null,
   "id": "d533da27-a5fe-4207-a5fb-1a466e8da594",
   "metadata": {},
   "outputs": [],
   "source": []
  }
 ],
 "metadata": {
  "kernelspec": {
   "display_name": "Python 3 (ipykernel)",
   "language": "python",
   "name": "python3"
  },
  "language_info": {
   "codemirror_mode": {
    "name": "ipython",
    "version": 3
   },
   "file_extension": ".py",
   "mimetype": "text/x-python",
   "name": "python",
   "nbconvert_exporter": "python",
   "pygments_lexer": "ipython3",
   "version": "3.11.5"
  }
 },
 "nbformat": 4,
 "nbformat_minor": 5
}
